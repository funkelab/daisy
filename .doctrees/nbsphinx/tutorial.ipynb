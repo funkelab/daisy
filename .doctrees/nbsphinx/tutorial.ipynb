{
 "cells": [
  {
   "cell_type": "code",
   "execution_count": null,
   "id": "2786c0a2",
   "metadata": {},
   "outputs": [],
   "source": [
    "\n",
    "# before we start, we are setting the start method to fork for convenience\n",
    "# and for running in a jupyter notebook. This is not always necessary.\n",
    "import multiprocessing\n",
    "\n",
    "multiprocessing.set_start_method(\"fork\", force=True)"
   ]
  },
  {
   "cell_type": "markdown",
   "id": "ca409449",
   "metadata": {},
   "source": [
    "# Daisy Tutorial\n",
    "Daisy is a library for processing large volumes in parallel. While other libraries (e.g. dask) can perform similar tasks, daisy is optimized for extremely large volumes, out-of-memory operations, and operations where neighboring blocks should not be run at the same time.\n",
    "\n",
    "In this tutorial, we will cover:\n",
    "- daisy terminology and concepts\n",
    "- running daisy locally with multiprocessing\n",
    "- running daisy with independent worker processes (e.g., on a compute cluster)\n",
    "- key features of daisy that make it unique"
   ]
  },
  {
   "cell_type": "code",
   "execution_count": null,
   "id": "36d3145a",
   "metadata": {},
   "outputs": [],
   "source": [
    "# Don't forget to install daisy with dependencies for the docs before running this tutorial:\n",
    "# \n",
    "# `pip install daisy[docs]``"
   ]
  },
  {
   "cell_type": "markdown",
   "id": "11e79f2b",
   "metadata": {},
   "source": [
    "## Building Blocks"
   ]
  },
  {
   "cell_type": "markdown",
   "id": "e29e1b74",
   "metadata": {},
   "source": [
    "Daisy is designed for processing volumetric data. Therefore, it has specific ways to describe locations in a volume. We will demonstrate the common terms and utilities using this image of astronaut Eileen Collins."
   ]
  },
  {
   "cell_type": "code",
   "execution_count": null,
   "id": "af450ea2",
   "metadata": {},
   "outputs": [],
   "source": [
    "from skimage import data\n",
    "import numpy as np\n",
    "import matplotlib.pyplot as plt\n",
    "\n",
    "raw_data = np.flip(data.astronaut(), 0)\n",
    "axes_image = plt.imshow(raw_data, zorder=1, origin=\"lower\")"
   ]
  },
  {
   "cell_type": "markdown",
   "id": "0fb57a6d",
   "metadata": {},
   "source": [
    "###Coordinate\n",
    "- A daisy Coordinate is essentially a tuple with one value per spatial dimension. In our case, the Coordinates are two-dimensional.\n",
    "- Daisy coordinates can represent points in the volume, or distances in the volume.\n",
    "- Daisy mostly passes around abstract placeholders of the data. Therefore, a Coordinate does not contain data, it is simply a pointer to a location in a volume.\n",
    "- The main difference between a Coordinate and a tuple is that operations (e.g. addition) between Coordinates are performed pointwise, to match the spatial definition.\n",
    "\n",
    "`daisy.Coordinate` is an alias of [`funlib.geometry.Coordinate`](https://github.com/funkelab/funlib.geometry/blob/main/funlib/geometry/coordinate.py)\n",
    "\n",
    "Here are some example Coordinates, and a visualization of their location on the Eileen Collins volume."
   ]
  },
  {
   "cell_type": "code",
   "execution_count": null,
   "id": "56b0d80e",
   "metadata": {},
   "outputs": [],
   "source": [
    "import daisy\n",
    "\n",
    "p1 = daisy.Coordinate(10, 10)  # white\n",
    "p2 = daisy.Coordinate(452, 250)  # yellow\n",
    "p3 = p2 - p1  # orange"
   ]
  },
  {
   "cell_type": "code",
   "execution_count": null,
   "id": "dc7884ec",
   "metadata": {},
   "outputs": [],
   "source": [
    "def display_coord(axes, coord, color):\n",
    "    x = coord[1]\n",
    "    y = coord[0]\n",
    "    axes.scatter(x, y, color=color, edgecolors=\"black\", zorder=3)\n",
    "\n",
    "\n",
    "figure = axes_image.figure\n",
    "axes = figure.axes[0]\n",
    "for point, color in zip([p1, p2, p3], [\"white\", \"yellow\", \"orange\"]):\n",
    "    display_coord(axes, point, color=color)\n",
    "figure"
   ]
  },
  {
   "cell_type": "markdown",
   "id": "9501ec30",
   "metadata": {},
   "source": [
    "###Roi\n",
    "A Roi (Region of interest) is a bounding box in a volume. It is defined by two Coordinates:\n",
    "- offset: the starting corner of the bounding box relative to the origin\n",
    "- shape: The extent of the bounding box in each dimension\n",
    "\n",
    "`daisy.Roi` is an alias of [`funlib.geometry.Roi`](https://github.com/funkelab/funlib.geometry/blob/main/funlib/geometry/roi.py). Rois have operations like grow, shift, and intersect, that represent spatial manipulations\n",
    "\n",
    "Here are some example Rois and their visualization in our Eileen Collins volume. Remember, the Roi does not contain the data! It is simply a bounding box."
   ]
  },
  {
   "cell_type": "code",
   "execution_count": null,
   "id": "8eab5cf3",
   "metadata": {},
   "outputs": [],
   "source": [
    "head = daisy.Roi(offset=(320, 150), shape=(180, 150))  # purple\n",
    "# to get the Roi of the nose, we will shrink the head Roi by a certain amount in x and y on each side of the Roi\n",
    "# the first argument will move the corner closest to the origin, and the second argument will move the corner furthest from the origin\n",
    "nose = head.grow(daisy.Coordinate(-60, -55), daisy.Coordinate(-90, -55))  # orange\n",
    "\n",
    "body = daisy.Roi(offset=p1, shape=(330, 350))  # grey\n",
    "# to get the neck, we will intersect the body and the head rois\n",
    "neck = head.intersect(body)  # blue"
   ]
  },
  {
   "cell_type": "code",
   "execution_count": null,
   "id": "48320b6f",
   "metadata": {},
   "outputs": [],
   "source": [
    "from matplotlib.patches import Rectangle\n",
    "\n",
    "\n",
    "def display_roi(axes, roi, color):\n",
    "    xy = (roi.offset[1], roi.offset[0])\n",
    "    width = roi.shape[1]\n",
    "    height = roi.shape[0]\n",
    "    rect = Rectangle(xy, width, height, alpha=0.4, color=color, zorder=2)\n",
    "    axes.add_patch(rect)\n",
    "\n",
    "\n",
    "def fresh_image():\n",
    "    plt.close()\n",
    "    axes_image = plt.imshow(raw_data, zorder=1, origin=\"lower\")\n",
    "    figure = axes_image.figure\n",
    "    axes = figure.axes[0]\n",
    "    return figure\n",
    "\n",
    "\n",
    "figure = fresh_image()\n",
    "for roi, color in zip([head, nose, body, neck], [\"purple\", \"orange\", \"grey\", \"blue\"]):\n",
    "    display_roi(figure.axes[0], roi, color=color)"
   ]
  },
  {
   "cell_type": "markdown",
   "id": "4e51d81a",
   "metadata": {},
   "source": [
    "###Array\n",
    "So far we have seen how to specify regions of the data with Rois and Coordinates, which do not contain any data. However, eventually you will need to access the actual data using your Rois! For this, we use [`funlib.persistence.arrays.Array`](https://github.com/funkelab/funlib.persistence/blob/f5310dddb346585a28f3cb44f577f77d4f5da07c/funlib/persistence/arrays/array.py). If you are familiar with dask, this is the daisy equivalent of dask arrays.\n",
    "\n",
    "The core information about the `funlib.persistence.arrays.Array` class is that you can slice them with Rois, along with normal numpy-like slicing. However, in order to support this type of slicing, we need to also know the Roi of the whole Array. Here we show you how to create an array from our raw data that is held in memory as a numpy array. However, we highly recommend using a zarr backend, and will show this in our simple example next!"
   ]
  },
  {
   "cell_type": "code",
   "execution_count": null,
   "id": "2a9b66b3",
   "metadata": {},
   "outputs": [],
   "source": [
    "from funlib.persistence.arrays import Array\n",
    "\n",
    "# daisy Arrays expect the channel dimension first, but our sklearn loaded image has channels last - let's fix that\n",
    "raw_data_reshaped = raw_data.transpose(2, 0, 1)\n",
    "print(\"New data shape:\", raw_data_reshaped.shape)\n",
    "\n",
    "# we need the spatial extend of the data\n",
    "data_spatial_shape = raw_data_reshaped.shape[1:]\n",
    "print(\"Spatial shape:\", data_spatial_shape)\n",
    "\n",
    "# Roi of the whole volume\n",
    "total_roi = daisy.Roi(offset=(0, 0), shape=data_spatial_shape)\n",
    "print(\"Total dataset roi:\", total_roi)\n",
    "\n",
    "raw_array = Array(\n",
    "    data=raw_data_reshaped,\n",
    "    offset=total_roi.offset,\n",
    "    voxel_size=daisy.Coordinate(1, 1),\n",
    ")"
   ]
  },
  {
   "cell_type": "markdown",
   "id": "7aaf04fc",
   "metadata": {},
   "source": [
    "Now we can demonstrate how to access data from an Array using a Roi"
   ]
  },
  {
   "cell_type": "code",
   "execution_count": null,
   "id": "22c537c4",
   "metadata": {},
   "outputs": [],
   "source": [
    "# slicing an Array with a Roi gives you a numpy array\n",
    "head_data = raw_array[head]\n",
    "plt.close()\n",
    "plt.imshow(\n",
    "    head_data.transpose(1, 2, 0), origin=\"lower\"\n",
    ")  # need to transpose channels back to the end for matplotlib to work"
   ]
  },
  {
   "cell_type": "code",
   "execution_count": null,
   "id": "70005bfa",
   "metadata": {},
   "outputs": [],
   "source": [
    "# you can also combine the two steps\n",
    "body_data = raw_array.to_ndarray(body)\n",
    "plt.close()\n",
    "plt.imshow(body_data.transpose(1, 2, 0), origin=\"lower\")"
   ]
  },
  {
   "cell_type": "markdown",
   "id": "e6c379da",
   "metadata": {},
   "source": [
    "###Block\n",
    "\n",
    "Daisy is a blockwise task scheduler. Therefore, the concept of a block is central to Daisy. To efficiently process large volumes, Daisy splits the whole volume into a set of adjacent blocks that cover the whole image. These blocks are what is passed between the scheduler and the workers.\n",
    "\n",
    "A Block is simply a (set of) Roi(s), and does not contain data. In practice, it has additional information that is useful to the daisy server and workers to help them perform their task, which we will decribe below:"
   ]
  },
  {
   "cell_type": "code",
   "execution_count": null,
   "id": "8f7be221",
   "metadata": {},
   "outputs": [],
   "source": [
    "# let's define a Block of our Eileen Collins volume\n",
    "# In practice, you will never need to make a block - the daisy scheduler will do this for you\n",
    "\n",
    "block_size = daisy.Coordinate(64, 64)\n",
    "block_origin = daisy.Coordinate(128, 128)\n",
    "block_roi = daisy.Roi(block_origin, block_size)\n",
    "\n",
    "block = daisy.Block(\n",
    "    total_roi=total_roi,\n",
    "    read_roi=block_roi,\n",
    "    write_roi=block_roi,\n",
    ")\n",
    "\n",
    "# Here are all the attributes of the block\n",
    "print(\n",
    "    \"Block id:\", block.block_id\n",
    ")  # a unique ID for each block given the total roi of the volume\n",
    "print(\n",
    "    \"Block read roi:\", block.read_roi\n",
    ")  # the Roi which represents the location in the volume of the input data to the process\n",
    "print(\n",
    "    \"Block write roi:\", block.write_roi\n",
    ")  # the Roi which represents the location in the volume where the process should write the output data\n",
    "print(\n",
    "    \"Block status:\", block.status\n",
    ")  # The status of the block (e.g. created, in progress, succeeded, failed)\n",
    "\n",
    "# let's look at the write roi of our block on top of the original figure\n",
    "figure = fresh_image()\n",
    "display_roi(figure.axes[0], block.write_roi, color=\"white\")"
   ]
  },
  {
   "cell_type": "markdown",
   "id": "609a853c",
   "metadata": {},
   "source": [
    "You may be wondering why the block has a read roi and a write roi - this will be illustrated next in our simple daisy example!"
   ]
  },
  {
   "cell_type": "markdown",
   "id": "6b20e635",
   "metadata": {},
   "source": [
    "## A Simple Example: Local Smoothing\n",
    "In this next example, we will use gaussian smoothing to illustrate how to parallize a task on your local machine using daisy."
   ]
  },
  {
   "cell_type": "markdown",
   "id": "a3ac14c3",
   "metadata": {},
   "source": [
    "###Dataset Preparation\n",
    "As mentioned earlier, we highly recommend using a zarr/n5 backend for your volume. Daisy is designed such that no data is transmitted between the worker and the scheduler, including the output of the processing. That means that each worker is responsible for saving the results in the given block write_roi. With a zarr backend, each worker can write to a specific region of the zarr in parallel, assuming that the chunk size is a divisor of and aligned with the write_roi. The zarr dataset must exist before you start scheduling though - we recommend using [`funlib.persistence.prepare_ds`](https://github.com/funkelab/funlib.persistence/blob/f5310dddb346585a28f3cb44f577f77d4f5da07c/funlib/persistence/arrays/datasets.py#L423) function to prepare the dataset. Then later, you can use [`funlib.persistence.open_ds`](https://github.com/funkelab/funlib.persistence/blob/f5310dddb346585a28f3cb44f577f77d4f5da07c/funlib/persistence/arrays/datasets.py#L328) to open the dataset and it will automatically read the metadata and wrap it into a `funlib.persistence.Array`."
   ]
  },
  {
   "cell_type": "code",
   "execution_count": null,
   "id": "d1745d5c",
   "metadata": {},
   "outputs": [],
   "source": [
    "import zarr\n",
    "\n",
    "# convert our data to float, because gaussian smoothing in scikit expects float input and output\n",
    "# recall that we already reshaped it to put channel dimension first, as the funlib.persistence Array expects\n",
    "raw_data_float = raw_data_reshaped.astype(np.float32) / 255.0\n",
    "\n",
    "# store image in zarr container\n",
    "f = zarr.open(\"sample_data.zarr\", \"w\")\n",
    "f[\"raw\"] = raw_data_float\n",
    "f[\"raw\"].attrs[\"offset\"] = daisy.Coordinate((0, 0))\n",
    "f[\"raw\"].attrs[\"resolution\"] = daisy.Coordinate(\n",
    "    (1, 1)\n",
    ")  # this attribute holds the voxel size"
   ]
  },
  {
   "cell_type": "code",
   "execution_count": null,
   "id": "2c7e47a1",
   "metadata": {
    "lines_to_next_cell": 2
   },
   "outputs": [],
   "source": [
    "from funlib.persistence import prepare_ds\n",
    "# prepare an output dataset with a chunk size that is a divisor of the block roi\n",
    "\n",
    "n_channels = 3  # our output will be an RGB image as well\n",
    "prepare_ds(\n",
    "    \"sample_data.zarr/smoothed\",\n",
    "    shape=(n_channels, *total_roi.shape),\n",
    "    offset=total_roi.offset,  # if your output has a different total_roi than your input, you would need to change this\n",
    "    voxel_size=daisy.Coordinate((1, 1)),\n",
    "    dtype=raw_data_float.dtype,\n",
    "    # The write size is important! If you don't set this correctly, your workers will have race conditions\n",
    "    # when writing to the same file, resulting in expected behavior or weird errors.\n",
    "    # The prepare_ds function takes care of making zarr chunk sizes that evenly divide your write size\n",
    "    chunk_shape=(n_channels, *block_size),\n",
    ")\n",
    "print(\"Shape of output dataset:\", f[\"smoothed\"].shape)\n",
    "print(\"Chunk size in output dataset:\", f[\"smoothed\"].chunks)"
   ]
  },
  {
   "cell_type": "markdown",
   "id": "c8c098d0",
   "metadata": {
    "lines_to_next_cell": 2
   },
   "source": [
    "###Define our Process Function\n",
    "When run locally, daisy process functions must take a block as the only argument. Depending on the multiprocessing spawn function settings on your computer, the function might not inherit the imports and variables of the scope where the scheudler is run, so it is always safer to import and define everything inside the function.\n",
    "\n",
    "Here is an example for smoothing. Generally, daisy process functions have the following three steps:\n",
    "1. Load the data from disk\n",
    "2. Process the data\n",
    "3. Save the result to disk\n",
    "\n",
    "Note that for now, the worker has to know where to load the data from and save the result to. Later we will show you ways around the rule that the process function must only take the block as input, to allow you to pass that information in when you start the scheduler."
   ]
  },
  {
   "cell_type": "code",
   "execution_count": null,
   "id": "dd1c9a51",
   "metadata": {},
   "outputs": [],
   "source": [
    "def smooth(block: daisy.Block):\n",
    "    # imports and hyperaparmeters inside scope, to be safe\n",
    "    from funlib.persistence.arrays import open_ds\n",
    "    from skimage import filters\n",
    "\n",
    "    sigma = 5.0\n",
    "\n",
    "    # open the raw dataset as an Array\n",
    "    raw_ds = open_ds(\n",
    "        \"sample_data.zarr/raw\",\n",
    "        \"r\",\n",
    "    )\n",
    "    # Read the data in the block read roi and turn it into a numpy array\n",
    "    data = raw_ds.to_ndarray(block.read_roi)\n",
    "    # smooth the data using the gaussian filter from skimage\n",
    "    smoothed = filters.gaussian(data, sigma=sigma, channel_axis=0)\n",
    "    # open the output smoothed dataset as an Array\n",
    "    output_ds = open_ds(\"sample_data.zarr/smoothed\", \"a\")\n",
    "    # save the result in the output dataset using the block write roi\n",
    "    output_ds[block.write_roi] = smoothed"
   ]
  },
  {
   "cell_type": "code",
   "execution_count": null,
   "id": "2cb5980e",
   "metadata": {},
   "outputs": [],
   "source": [
    "# Let's test the data on our block that we defined earlier and visualize the result\n",
    "smooth(block)\n",
    "plt.imshow(\n",
    "    zarr.open(\"sample_data.zarr\", \"r\")[\"smoothed\"][:].transpose(1, 2, 0), origin=\"lower\"\n",
    ")"
   ]
  },
  {
   "cell_type": "markdown",
   "id": "c1d95aca",
   "metadata": {},
   "source": [
    "###Run daisy with local multiprocessing\n",
    "We are about ready to run daisy! We need to tell the scheduler the following pieces of information:\n",
    "- The process function, which takes a block as an argument\n",
    "- The total roi to process (in our case, the whole image)\n",
    "- The read roi and write roi of each block (the shape and relative offset are what is important, since they will be shifted as a pair to tile the total_roi)\n",
    "- How many workers to spawn\n",
    "\n",
    "These pieces of information get wrapped into a [`daisy.Task`](https://github.com/funkelab/daisy/blob/master/daisy/task.py), along with a name for the task. Then the `daisy.run_blockwise` function starts the scheduler, which creates all the blocks that tile the total roi, spawns the workers, distributes the blocks to the workers, and reports if the blocks were successfully processed."
   ]
  },
  {
   "cell_type": "code",
   "execution_count": null,
   "id": "01b85505",
   "metadata": {},
   "outputs": [],
   "source": [
    "daisy.run_blockwise(\n",
    "    [\n",
    "        daisy.Task(\n",
    "            \"Smoothing\",  # task name\n",
    "            process_function=smooth,  # a function that takes a block as argument\n",
    "            total_roi=total_roi,  # The whole roi of the image\n",
    "            read_roi=block_roi,  # The roi that the worker should read from\n",
    "            write_roi=block_roi,  # the roi that the worker should write to\n",
    "            num_workers=5,\n",
    "        )\n",
    "    ]\n",
    ")"
   ]
  },
  {
   "cell_type": "code",
   "execution_count": null,
   "id": "e6ab0773",
   "metadata": {},
   "outputs": [],
   "source": [
    "plt.imshow(\n",
    "    zarr.open(\"sample_data.zarr\", \"r\")[\"smoothed\"][:].transpose(1, 2, 0), origin=\"lower\"\n",
    ")"
   ]
  },
  {
   "cell_type": "markdown",
   "id": "b1a72b02",
   "metadata": {},
   "source": [
    "###Take 2: Add context!\n",
    "The task ran successfully, but you'll notice that there are edge artefacts where the blocks border each other. This is because each worker only sees the inside of the block, and it needs more context to smooth seamlessly between blocks. If we increase the size of the read_roi so that each block sees all pixels that contribute meaningfully to the smoothed values in the interior (write_roi) of the block, the edge artefacts should disappear."
   ]
  },
  {
   "cell_type": "code",
   "execution_count": null,
   "id": "0864f0ad",
   "metadata": {
    "lines_to_next_cell": 2
   },
   "outputs": [],
   "source": [
    "sigma = 5\n",
    "context = 2 * sigma  # pixels beyond 2*sigma contribute almost nothing to the output\n",
    "block_read_roi = block_roi.grow(context, context)\n",
    "block_write_roi = block_roi\n",
    "# we also grow the total roi by the context, so that the write_rois are still in the same place when we tile\n",
    "total_read_roi = total_roi.grow(context, context)\n",
    "\n",
    "block = daisy.Block(\n",
    "    total_roi=total_roi,\n",
    "    read_roi=block_read_roi,\n",
    "    write_roi=block_write_roi,\n",
    ")\n",
    "\n",
    "# let's look at the new block rois\n",
    "figure = fresh_image()\n",
    "display_roi(figure.axes[0], block.read_roi, color=\"purple\")\n",
    "display_roi(figure.axes[0], block.write_roi, color=\"white\")"
   ]
  },
  {
   "cell_type": "markdown",
   "id": "3ca4edaf",
   "metadata": {
    "lines_to_next_cell": 2
   },
   "source": [
    "Let's prepare another dataset to store our new and improved smoothing result in. We will be doing this repeatedly through the rest of the tutorial, so we define a helper function to prepare a smoothing result in a given group in the `sample_data.zarr`. We also define a helper function for deleting a dataset, in case you want to re-run a processing step and see a new result."
   ]
  },
  {
   "cell_type": "code",
   "execution_count": null,
   "id": "bbe791c3",
   "metadata": {
    "lines_to_next_cell": 2
   },
   "outputs": [],
   "source": [
    "def prepare_smoothing_ds(group):\n",
    "    prepare_ds(\n",
    "        f\"sample_data.zarr/{group}\",\n",
    "        shape=(3, *total_roi.shape),\n",
    "        offset=total_roi.offset,\n",
    "        voxel_size=daisy.Coordinate((1, 1)),\n",
    "        dtype=raw_data_float.dtype,\n",
    "        chunk_shape=(3, *block_size),\n",
    "    )\n",
    "\n",
    "\n",
    "def delete_ds(group):\n",
    "    root = zarr.open(\"sample_data.zarr\", \"a\")\n",
    "    if group in root:\n",
    "        del root[group]\n",
    "\n",
    "\n",
    "output_group = \"smoothed_with_context\"\n",
    "prepare_smoothing_ds(output_group)"
   ]
  },
  {
   "cell_type": "markdown",
   "id": "c936292f",
   "metadata": {
    "lines_to_next_cell": 2
   },
   "source": [
    "Now we have to adapt our process function to crop the output before saving. It would be nice to be able to pass the output group in as an argument, so we will show you a workaround using `functools.partial` to partially evaluate the function. To use this workaround, your process function must have the block as the last argument."
   ]
  },
  {
   "cell_type": "code",
   "execution_count": null,
   "id": "4f189d5f",
   "metadata": {},
   "outputs": [],
   "source": [
    "def smooth_in_block(output_group: str, block: daisy.Block):\n",
    "    # imports and hyperaparmeters inside scope, to be safe\n",
    "    from funlib.persistence.arrays import open_ds, Array\n",
    "    from skimage import filters\n",
    "    import time\n",
    "\n",
    "    sigma = 5.0\n",
    "    # open the raw dataset as an Array\n",
    "    raw_ds = open_ds(\n",
    "        \"sample_data.zarr/raw\",\n",
    "        \"r\",\n",
    "    )\n",
    "    # Read the data in the block read roi and turn it into a numpy array\n",
    "    data = raw_ds.to_ndarray(\n",
    "        block.read_roi, fill_value=0\n",
    "    )  # NOTE: this fill value allows you to read outside the total_roi without erroring\n",
    "    # smooth the data using the gaussian filter from skimage\n",
    "    smoothed = filters.gaussian(data, sigma=sigma, channel_axis=0)\n",
    "    # open the output smoothed dataset as an Array\n",
    "    output_ds = open_ds(f\"sample_data.zarr/{output_group}\", \"a\")\n",
    "    # turn the smoothed result into an Array so we can crop it with a Roi (you can also center crop it by the context manually, but this is easier!)\n",
    "    smoothed = Array(smoothed, offset=block.read_roi.offset, voxel_size=(1, 1))\n",
    "    # save the result in the output dataset using the block write roi\n",
    "    output_ds[block.write_roi] = smoothed.to_ndarray(block.write_roi)"
   ]
  },
  {
   "cell_type": "markdown",
   "id": "21163bd9",
   "metadata": {},
   "source": [
    "Now we can re-run daisy. Note these changes from the previous example:\n",
    "- using `functools.partial` to partially evaluate our `smooth_in_block` function , turning it into a function that only takes the block as an argument\n",
    "- the total_roi is now expanded to include the context, as is the read_roi"
   ]
  },
  {
   "cell_type": "code",
   "execution_count": null,
   "id": "9082011d",
   "metadata": {},
   "outputs": [],
   "source": [
    "from functools import partial\n",
    "\n",
    "daisy.run_blockwise(\n",
    "    [\n",
    "        daisy.Task(\n",
    "            \"Smoothing with context\",\n",
    "            process_function=partial(smooth_in_block, output_group),\n",
    "            total_roi=total_read_roi,\n",
    "            read_roi=block_read_roi,\n",
    "            write_roi=block_write_roi,\n",
    "            num_workers=5,\n",
    "        )\n",
    "    ],\n",
    "    multiprocessing=False,\n",
    ")"
   ]
  },
  {
   "cell_type": "code",
   "execution_count": null,
   "id": "faf8a3c6",
   "metadata": {},
   "outputs": [],
   "source": [
    "plt.imshow(\n",
    "    zarr.open(\"sample_data.zarr\", \"r\")[\"smoothed_with_context\"][:].transpose(1, 2, 0),\n",
    "    origin=\"lower\",\n",
    ")"
   ]
  },
  {
   "cell_type": "markdown",
   "id": "7cdc0f08",
   "metadata": {},
   "source": [
    "Success! Notice that there is a fade to black at the border, due to the `fill_value=0` argument used when reading the data from the input Array.\n",
    "Smoothing is poorly defined at the border of the volume - if you want different behavior, you can expand the input array to include extended data of your choice at the border, or shrink the total output roi by the context to only include the section of the output that depends on existing data."
   ]
  },
  {
   "cell_type": "markdown",
   "id": "99feeb98",
   "metadata": {},
   "source": [
    "###Conclusion: Dask and Daisy\n",
    "\n",
    "Congrats! You have learned the basics of Daisy. In this example, we only parallelized the processing using our local computer's resources, and our \"volume\" was very small.\n",
    "\n",
    "If your task is similar to this example, you can use dask to do the same task with many fewer lines of code:"
   ]
  },
  {
   "cell_type": "code",
   "execution_count": null,
   "id": "53f4330c",
   "metadata": {},
   "outputs": [],
   "source": [
    "%pip install dask"
   ]
  },
  {
   "cell_type": "code",
   "execution_count": null,
   "id": "9278c7e1",
   "metadata": {},
   "outputs": [],
   "source": [
    "import dask\n",
    "import dask.array as da\n",
    "from skimage import filters\n",
    "\n",
    "\n",
    "f = zarr.open(\"sample_data.zarr\", \"r\")\n",
    "raw = da.from_array(f[\"raw\"], chunks=(3, 64, 64))\n",
    "print(\"Raw dask array:\", raw)\n",
    "sigma = 5.0\n",
    "context = int(sigma) * 2\n",
    "\n",
    "\n",
    "def smooth_in_block_dask(x):\n",
    "    return filters.gaussian(x, sigma=sigma, channel_axis=0)\n",
    "\n",
    "\n",
    "smoothed = raw.map_overlap(smooth_in_block_dask, depth=(0, context, context))\n",
    "plt.imshow(smoothed.transpose((1, 2, 0)), origin=\"lower\")"
   ]
  },
  {
   "cell_type": "markdown",
   "id": "528f8a41",
   "metadata": {},
   "source": [
    "For many situations, both dask and daisy can work well. Indeed, for some tasks, dask is simpler and better suited, as it does for you many things that daisy leaves to you to implement. One key difference between dask and daisy is that in dask, functions are not supposed to have side effects. In daisy, functions can have side effects, allowing blocks to depend on other blocks in the scheduling order (see the last two examples in this tutorial about task chaining and read-write conflicts).\n",
    "\n",
    "In general, daisy is designed for...\n",
    "- Cases where you want to be able to pick up where you left off after an error, rather than starting the whole task over (because blocks that finished saved their results to disk)\n",
    "- Cases where blocks should be executed in a particular order, so that certain blocks see other blocks outputs (without passing the output through the scheduler)\n",
    "- Cases where the worker function needs setup and teardown that takes longer than processing a block (see our next example!)"
   ]
  },
  {
   "cell_type": "markdown",
   "id": "1a793031",
   "metadata": {},
   "source": [
    "## Distributing on the Cluster\n",
    "While daisy can run locally, it is designed to shine in a cluster computing environment. The only information passed between scheduler and workers are Blocks, which are extremely lightweight and are communicated through TCP. Therefore, workers can be distributed on the cluster with minimal communication overhead.\n",
    "\n",
    "Let's re-do our smoothing, but this time run each worker as a completely separate subprocess, as would be needed on a cluster. First, we prepare the output dataset."
   ]
  },
  {
   "cell_type": "code",
   "execution_count": null,
   "id": "d3b86494",
   "metadata": {
    "lines_to_next_cell": 2
   },
   "outputs": [],
   "source": [
    "# first, prepare the dataset\n",
    "prepare_smoothing_ds(\"smoothed_subprocess\")"
   ]
  },
  {
   "cell_type": "markdown",
   "id": "b07d5189",
   "metadata": {
    "lines_to_next_cell": 2
   },
   "source": [
    "Then, we prepare our process function. This time, it has two parts. The first part is the function defined in the cell below, and essentially just calls `subprocess.run` locally or with bsub, as an example compute environment. The second part is the external python script that is actually executed in the `subprocess.run` call."
   ]
  },
  {
   "cell_type": "code",
   "execution_count": null,
   "id": "1e4c0147",
   "metadata": {
    "lines_to_next_cell": 2
   },
   "outputs": [],
   "source": [
    "# new process function to start the worker subprocess\n",
    "def start_subprocess_worker(cluster=\"local\"):\n",
    "    import subprocess\n",
    "\n",
    "    if cluster == \"bsub\":\n",
    "        # this is where you define your cluster arguments specific to your task (gpus, cpus, etc)\n",
    "        num_cpus_per_worker = 1\n",
    "        subprocess.run(\n",
    "            [\n",
    "                \"bsub\",\n",
    "                \"-I\",\n",
    "                f\"-n {num_cpus_per_worker}\",\n",
    "                \"python\",\n",
    "                \"./tutorial_worker.py\",\n",
    "                \"tutorial_config.json\",\n",
    "            ]\n",
    "        )\n",
    "    elif cluster == \"local\":\n",
    "        subprocess.run([\"python\", \"tutorial_worker.py\", \"tutorial_config.json\"])\n",
    "    else:\n",
    "        raise ValueError(\"Only bsub and local currently supported for this tutorial\")"
   ]
  },
  {
   "cell_type": "markdown",
   "id": "4df0746a",
   "metadata": {
    "lines_to_next_cell": 2
   },
   "source": [
    "Code from tutorial_worker.py, copied here for convenience (Note: running this cell won't run the code, because it is a markdown cell)\n",
    "``` python\n",
    "import daisy\n",
    "import logging\n",
    "import time\n",
    "from funlib.persistence.arrays import open_ds, Array\n",
    "from skimage import filters\n",
    "import sys\n",
    "import json\n",
    "\n",
    "\n",
    "## This function is the same as the local function, but we can pass as many different arguments as we want, and we don't need to import inside it\n",
    "def smooth_in_block(block: daisy.Block, config: dict):\n",
    "    sigma = config[\"sigma\"]\n",
    "    raw_ds = open_ds(f\"{config['input_zarr']}/{config['input_group']}\", \"r\",)\n",
    "    data = raw_ds.to_ndarray(block.read_roi, fill_value=0)\n",
    "    smoothed = filters.gaussian(data, sigma=sigma, channel_axis=0)\n",
    "    output_ds = open_ds(f\"{config['output_zarr']}/{config['output_group']}\", 'a')\n",
    "    smoothed = Array(smoothed, offset=block.read_roi.offset, voxel_size=(1, 1))\n",
    "    output_ds[block.write_roi] = smoothed.to_ndarray(block.write_roi)\n",
    "\n",
    "\n",
    "if __name__ == \"__main__\":\n",
    "    # load a config path or other parameters from the sysargs (recommended to use argparse argument parser for anything more complex)\n",
    "    config_path = sys.argv[1]\n",
    "\n",
    "    # load the config\n",
    "    with open(config_path) as f:\n",
    "        config = json.load(f)\n",
    "\n",
    "    # simulate long setup time (e.g. loading a model)\n",
    "    time.sleep(20)\n",
    "\n",
    "    # set up the daisy client (this is done by daisy automatically in the local example)\n",
    "    # it depends on environment variables to determine configuration\n",
    "    client = daisy.Client()\n",
    "\n",
    "    while True:\n",
    "        # ask for a block from the scheduler\n",
    "        with client.acquire_block() as block:\n",
    "\n",
    "            # The scheduler will return None when there are no more blocks left\n",
    "            if block is None:\n",
    "                break\n",
    "\n",
    "            # process your block!\n",
    "            # Note: you can now define whatever function signature you want, rather than being limited to one block argument\n",
    "            smooth_in_block(block, config)\n",
    "\n",
    "```"
   ]
  },
  {
   "cell_type": "markdown",
   "id": "680bc757",
   "metadata": {},
   "source": [
    "The most important thing to notice about the new worker script is the use of the `client.acquire_block()` function. If you provide a process function that takes a block as input, as we did previously, daisy will create the `daisy.Client`, `while` loop, and `client.acquire_block()` context for you. If you provide a process function with no arguments, the worker is expected to set up the client and request blocks.\n",
    "\n",
    "Doing the `daisy.Client` set up yourself is helpful when worker startup is expensive - loading saved network weights can be more expensive than actually predicting for one block, so you definitely would not want to load the model separately for each block. We have simulated this by using time.sleep() in the setup of the worker, so when you run the next cell, it should take 20 seconds to start up and then the blocks should process quickly after that."
   ]
  },
  {
   "cell_type": "code",
   "execution_count": null,
   "id": "39642912",
   "metadata": {},
   "outputs": [],
   "source": [
    "# note: Must be on submit node to run this with bsub argument\n",
    "# For Janelians: Don't use the login node to run the scheduler!\n",
    "#     Instead, use the submit node, which can handle more computational load\n",
    "tutorial_task = daisy.Task(\n",
    "    \"smoothing_subprocess\",\n",
    "    total_roi=total_read_roi,\n",
    "    read_roi=block_read_roi,\n",
    "    write_roi=block_write_roi,\n",
    "    process_function=partial(start_subprocess_worker, \"local\"),\n",
    "    num_workers=2,\n",
    ")\n",
    "\n",
    "daisy.run_blockwise([tutorial_task])"
   ]
  },
  {
   "cell_type": "code",
   "execution_count": null,
   "id": "1a044cc1",
   "metadata": {},
   "outputs": [],
   "source": [
    "plt.imshow(\n",
    "    zarr.open(\"sample_data.zarr\", \"r\")[\"smoothed_subprocess\"][:].transpose(1, 2, 0),\n",
    "    origin=\"lower\",\n",
    ")"
   ]
  },
  {
   "cell_type": "markdown",
   "id": "2b21157c",
   "metadata": {},
   "source": [
    "## Important Features"
   ]
  },
  {
   "cell_type": "markdown",
   "id": "5fe24111",
   "metadata": {},
   "source": [
    "There are a few more features that you should know about to take full advantage of daisy!"
   ]
  },
  {
   "cell_type": "markdown",
   "id": "f51200bd",
   "metadata": {},
   "source": [
    "###Fault tolerance and the pre-check function"
   ]
  },
  {
   "cell_type": "markdown",
   "id": "d17fd321",
   "metadata": {},
   "source": [
    "Even if your code is completely bug-free, things will always go wrong eventually when scaling up to millions of workers. Perhaps your node on the cluster was shared with another process that temporarily hogged too much memory, or you forgot to set a longer timeout and the process was killed after 8 hours. Let's see how daisy can help you handle these issues, by seeing what happens when we add random failures to our smoothing task."
   ]
  },
  {
   "cell_type": "code",
   "execution_count": null,
   "id": "8839575e",
   "metadata": {},
   "outputs": [],
   "source": [
    "# as always, prepare a new output smoothing  dataset\n",
    "prepare_smoothing_ds(\"fault_tolerance\")"
   ]
  },
  {
   "cell_type": "code",
   "execution_count": null,
   "id": "1889257d",
   "metadata": {},
   "outputs": [],
   "source": [
    "# simulate failing 50% of the time\n",
    "def smooth_in_block_with_failure(block: daisy.Block):\n",
    "    import random\n",
    "    from funlib.persistence.arrays import open_ds, Array\n",
    "    from skimage import filters\n",
    "\n",
    "    if random.random() < 0.5:\n",
    "        raise ValueError(\"Simulating random failure\")\n",
    "\n",
    "    sigma = 5.0\n",
    "\n",
    "    raw_ds = open_ds(\n",
    "        \"sample_data.zarr/raw\",\n",
    "        \"r\",\n",
    "    )\n",
    "    data = raw_ds.to_ndarray(block.read_roi, fill_value=0)\n",
    "    smoothed = filters.gaussian(data, sigma=sigma, channel_axis=0)\n",
    "\n",
    "    output_ds = open_ds(\"sample_data.zarr/fault_tolerance\", \"a\")\n",
    "\n",
    "    smoothed = Array(smoothed, offset=block.read_roi.offset, voxel_size=(1, 1))\n",
    "    output_ds[block.write_roi] = smoothed.to_ndarray(block.write_roi)"
   ]
  },
  {
   "cell_type": "code",
   "execution_count": null,
   "id": "88c18af7",
   "metadata": {},
   "outputs": [],
   "source": [
    "sigma = 5\n",
    "context = int(sigma) * 2\n",
    "read_roi = block_roi.grow(context, context)\n",
    "\n",
    "daisy.run_blockwise(\n",
    "    [\n",
    "        daisy.Task(\n",
    "            \"fault tolerance test\",\n",
    "            process_function=smooth_in_block_with_failure,\n",
    "            total_roi=total_read_roi,\n",
    "            read_roi=read_roi,\n",
    "            write_roi=block_roi,\n",
    "            read_write_conflict=False,\n",
    "            num_workers=5,\n",
    "        )\n",
    "    ]\n",
    ")"
   ]
  },
  {
   "cell_type": "code",
   "execution_count": null,
   "id": "9f6b15d0",
   "metadata": {},
   "outputs": [],
   "source": [
    "plt.imshow(\n",
    "    zarr.open(\"sample_data.zarr\", \"r\")[\"fault_tolerance\"][:].transpose(1, 2, 0),\n",
    "    origin=\"lower\",\n",
    ")"
   ]
  },
  {
   "cell_type": "markdown",
   "id": "add73b9a",
   "metadata": {},
   "source": [
    "Debugging multi-process code is inherently difficult, but daisy tries to provide as much information as possible. First, you see the progress bar, which also reports the number of blocks at each state, including failed blocks. Any worker error messages are also logged to the scheduler log, although not the full traceback. Upon completion, daisy provides an error summary, which informs you of the final status of all the blocks, and points you to the full output and error logs for each worker, which can be found in `daisy_logs/<task_name>`. The worker error log will contain the full traceback for debugging the exact source of an error."
   ]
  },
  {
   "cell_type": "markdown",
   "id": "63bb5b29",
   "metadata": {},
   "source": [
    "You may have noticed that while we coded the task to fail 50% of the time, much more than 50% of the blocks succeeded. This is because daisy by default retries each block 3 times (on different workers) before marking it as failed, to deal gracefully with random error.  We will re-run this example, but set max_retries=0 to see the effect of this parameter."
   ]
  },
  {
   "cell_type": "code",
   "execution_count": null,
   "id": "e985e57c",
   "metadata": {},
   "outputs": [],
   "source": [
    "# delete and re-create the dataset, so that we start from zeros again\n",
    "delete_ds(\"fault_tolerance\")\n",
    "prepare_smoothing_ds(\"fault_tolerance\")"
   ]
  },
  {
   "cell_type": "code",
   "execution_count": null,
   "id": "c9ef7ef8",
   "metadata": {},
   "outputs": [],
   "source": [
    "daisy.run_blockwise(\n",
    "    [\n",
    "        daisy.Task(\n",
    "            \"fault tolerance test\",\n",
    "            process_function=smooth_in_block_with_failure,\n",
    "            total_roi=total_read_roi,\n",
    "            read_roi=read_roi,\n",
    "            write_roi=block_roi,\n",
    "            read_write_conflict=False,\n",
    "            max_retries=0,\n",
    "            num_workers=5,\n",
    "        )\n",
    "    ]\n",
    ")"
   ]
  },
  {
   "cell_type": "code",
   "execution_count": null,
   "id": "0551d964",
   "metadata": {
    "lines_to_next_cell": 2
   },
   "outputs": [],
   "source": [
    "plt.imshow(\n",
    "    zarr.open(\"sample_data.zarr\", \"r\")[\"fault_tolerance\"][:].transpose(1, 2, 0),\n",
    "    origin=\"lower\",\n",
    ")"
   ]
  },
  {
   "cell_type": "markdown",
   "id": "d38d85a9",
   "metadata": {
    "lines_to_next_cell": 2
   },
   "source": [
    "Now we should see a success rate closer to what we would expect. You might notice in the logs a message like ```Worker hostname=...:port=..:task_id=fault tolerance test:worker_id=... failed too many times, restarting this worker...```, which shows another way that daisy is robust to pseudo-random errors. If a specific worker fails multiple times, daisy will assume something might have gone wrong with that worker (e.g. GPU memory taken by another process that the cluster scheduler was not aware of). The scheduler will shut down and restart the worker, and retry the blocks that failed on that worker. So daisy is very robust to random error.\n",
    "\n",
    "But what about non-random error, like stopping after 8 hours? If you don't want to re-process all the already processed blocks from a prior run, you can write a function that takes a block and checks if it is complete, and pass it to the scheduler. The scheduler will run this check function on each block and skip the block if the check function returns true.\n",
    "\n",
    "Here is an example check function for our smoothing task, that checks if there are any non-zero values in the output array"
   ]
  },
  {
   "cell_type": "code",
   "execution_count": null,
   "id": "8410dae9",
   "metadata": {},
   "outputs": [],
   "source": [
    "def check_complete(output_group, block):\n",
    "    from funlib.persistence.arrays import open_ds\n",
    "    import numpy as np\n",
    "\n",
    "    output_ds = open_ds(f\"sample_data.zarr/{output_group}\", \"r\")\n",
    "    if np.max(output_ds.to_ndarray(block.write_roi)) > 0:\n",
    "        return True\n",
    "    else:\n",
    "        return False"
   ]
  },
  {
   "cell_type": "markdown",
   "id": "9f59fac4",
   "metadata": {},
   "source": [
    "If we re-run the task, but with the check function provided, you should see in the execution summary that all the blocks that finished before are skipped. You can continue re-running until you reach 100% completion, without ever re-processing those same blocks"
   ]
  },
  {
   "cell_type": "code",
   "execution_count": null,
   "id": "41d28d32",
   "metadata": {},
   "outputs": [],
   "source": [
    "daisy.run_blockwise(\n",
    "    [\n",
    "        daisy.Task(\n",
    "            \"fault tolerance test\",\n",
    "            process_function=smooth_in_block_with_failure,\n",
    "            total_roi=total_read_roi,\n",
    "            read_roi=read_roi,\n",
    "            write_roi=block_roi,\n",
    "            read_write_conflict=False,\n",
    "            max_retries=1,\n",
    "            num_workers=5,\n",
    "            check_function=partial(check_complete, \"fault_tolerance\"),\n",
    "        )\n",
    "    ]\n",
    ")"
   ]
  },
  {
   "cell_type": "code",
   "execution_count": null,
   "id": "1f73cbd3",
   "metadata": {
    "lines_to_next_cell": 2
   },
   "outputs": [],
   "source": [
    "plt.imshow(\n",
    "    zarr.open(\"sample_data.zarr\", \"r\")[\"fault_tolerance\"][:].transpose(1, 2, 0),\n",
    "    origin=\"lower\",\n",
    ")"
   ]
  },
  {
   "cell_type": "markdown",
   "id": "f9db1c39",
   "metadata": {},
   "source": [
    "Unfortunately, this is a pretty inefficient pre-check function, because you have to actually read the output data to see if the block is completed. Since this will be run on the scheduler on every block before it is passed to a worker, it might not even be faster than just re-processing the blocks (which is at least distributed).\n",
    "\n",
    "If you plan to have extremely long running jobs that might get killed in the middle, we recommend including a step in your process function after you write out the result of a block, in which you write out the block id to a database or a file. Then, the pre-check function can just check if the block id is in the file system or database, which is much faster than reading the actual data."
   ]
  },
  {
   "cell_type": "markdown",
   "id": "9ec408a6",
   "metadata": {},
   "source": [
    "###Task chaining"
   ]
  },
  {
   "cell_type": "markdown",
   "id": "2207413f",
   "metadata": {},
   "source": [
    "Frequently, image processing pipelines involve multiple tasks, where some tasks depend on the output of other tasks. For example, we have a function to segment out instances of blue objects in an image, and we want to apply it after smoothing. We can define two tasks and run them sequentially in the scheduler. Daisy will even begin the second task as soon as a single block can be run, rather than waiting for the first task to fully complete before starting the second task."
   ]
  },
  {
   "cell_type": "code",
   "execution_count": null,
   "id": "7d5ed0fa",
   "metadata": {
    "lines_to_next_cell": 2
   },
   "outputs": [],
   "source": [
    "%pip install opencv-python"
   ]
  },
  {
   "cell_type": "code",
   "execution_count": null,
   "id": "30bb1f76",
   "metadata": {},
   "outputs": [],
   "source": [
    "# here is our function to segment blue objects\n",
    "# it is just thresholding in HSV space, so unlike smoothing, the neighboring pixels do not affect the outcome\n",
    "# There is probably a nicer way to get the image into hsv space, but this gets the job done!\n",
    "def segment_blue_objects(input_group, output_group, block):\n",
    "    import cv2\n",
    "    from funlib.persistence.arrays import open_ds, Array\n",
    "    import numpy as np\n",
    "    import skimage\n",
    "\n",
    "    # load the data as usual\n",
    "    input_ds = open_ds(\n",
    "        f\"sample_data.zarr/{input_group}\",\n",
    "        \"r\",\n",
    "    )\n",
    "    data = input_ds.to_ndarray(block.read_roi)\n",
    "\n",
    "    # massage the data into open cv hsv format :/\n",
    "    back_to_skimage = (data.transpose(1, 2, 0) * 255).astype(np.uint8)\n",
    "    cv2_image = cv2.cvtColor(\n",
    "        skimage.util.img_as_ubyte(back_to_skimage), cv2.COLOR_RGB2BGR\n",
    "    )\n",
    "    hsv_image = cv2.cvtColor(cv2_image, cv2.COLOR_BGR2HSV)\n",
    "\n",
    "    # Define the color range for detection\n",
    "    lower_blue = np.array([100, 30, 0])\n",
    "    upper_blue = np.array([150, 255, 255])\n",
    "\n",
    "    # Threshold the image to get only blue colors\n",
    "    mask = cv2.inRange(hsv_image, lower_blue, upper_blue)  # this returns 0 and 255\n",
    "    mask = mask.astype(np.uint32)\n",
    "    mask = mask // 255  # turn into 0/1 labels\n",
    "\n",
    "    # give each connected component its own instance segmentation label\n",
    "    labels = skimage.measure.label(mask)\n",
    "\n",
    "    # get a unique ID for each element in the whole volume (avoid repeats between blocks)\n",
    "    max_number_obj = (\n",
    "        128 * 128\n",
    "    )  # This number is an upper bound on the maximum number of objects in a block\n",
    "    block_id_mask = mask * (block.block_id[1] * max_number_obj)\n",
    "    labels = labels + block_id_mask\n",
    "\n",
    "    # save the output\n",
    "    output_ds = open_ds(f\"sample_data.zarr/{output_group}\", \"a\")\n",
    "    output_ds[block.write_roi] = labels"
   ]
  },
  {
   "cell_type": "markdown",
   "id": "ee5dd939",
   "metadata": {},
   "source": [
    "Previously, we always defined our `daisy.Task` inside the call to `daisy.run_blockwise`. Now, we need to save our smoothing task in a variable so we can reference it as a dependency our segmentation task."
   ]
  },
  {
   "cell_type": "code",
   "execution_count": null,
   "id": "3808e5bc",
   "metadata": {},
   "outputs": [],
   "source": [
    "# as always, prepare the output dataset\n",
    "delete_ds(\"smoothed_for_seg\")\n",
    "prepare_smoothing_ds(\"smoothed_for_seg\")\n",
    "\n",
    "# same smoothing task as usual, with unqiue output dataset\n",
    "smoothing_task = daisy.Task(\n",
    "    \"smooth_for_seg\",\n",
    "    process_function=partial(smooth_in_block, \"smoothed_for_seg\"),\n",
    "    total_roi=total_read_roi,\n",
    "    read_roi=read_roi,\n",
    "    write_roi=block_roi,\n",
    "    num_workers=3,\n",
    "    read_write_conflict=False,\n",
    "    check_function=partial(check_complete, \"smoothed_for_seg\"),\n",
    ")"
   ]
  },
  {
   "cell_type": "markdown",
   "id": "86900594",
   "metadata": {},
   "source": [
    "Next, we make our segmentatation task. Each task can have different hyperaparameters, including block sizes and total rois. For the segmentation, we will double the block size and not add context, since unlike smoothing, thresholding does not depend on neighboring pixels.\n",
    "\n",
    "Since our instance segmentation output has different output data type, no channels, and a different total output roi, we need to change our arguments to `prepare_ds` for this task."
   ]
  },
  {
   "cell_type": "code",
   "execution_count": null,
   "id": "5171f89f",
   "metadata": {},
   "outputs": [],
   "source": [
    "# you can have different block sizes in different tasks\n",
    "seg_block_roi = daisy.Roi((0, 0), (128, 128))\n",
    "\n",
    "delete_ds(\"blue_objects\")\n",
    "prepare_ds(\n",
    "    \"sample_data.zarr/blue_objects\",\n",
    "    shape=total_roi.shape,\n",
    "    offset=total_roi.offset,\n",
    "    voxel_size=daisy.Coordinate((1, 1)),\n",
    "    dtype=np.uint32,  # This is different! Our labels will be uint32\n",
    "    write_size=seg_block_roi.shape,  # use the new block roi to determine the chunk size\n",
    ")\n",
    "\n",
    "seg_task = daisy.Task(\n",
    "    \"segmentation\",\n",
    "    process_function=partial(segment_blue_objects, \"smoothed_for_seg\", \"blue_objects\"),\n",
    "    total_roi=total_roi,  # Note: This task does not have context (yet...?)\n",
    "    read_roi=seg_block_roi,  # again, no context\n",
    "    write_roi=seg_block_roi,  # so read and write rois are the same\n",
    "    read_write_conflict=False,\n",
    "    num_workers=5,\n",
    "    upstream_tasks=[\n",
    "        smoothing_task\n",
    "    ],  # Here is where we define that this task depends on the output of the smoothing task\n",
    ")"
   ]
  },
  {
   "cell_type": "markdown",
   "id": "829252f2",
   "metadata": {},
   "source": [
    "Note the `upstream_tasks` argument - this is how you tell the scheduler that this task depends on the output of the smoothing task. Then, we can pass both tasks into `run_blockwise`. You should see that the process bar for the segmentation task starts before the smoothing progress bar completes."
   ]
  },
  {
   "cell_type": "code",
   "execution_count": null,
   "id": "0bb04032",
   "metadata": {},
   "outputs": [],
   "source": [
    "daisy.run_blockwise([smoothing_task, seg_task])"
   ]
  },
  {
   "cell_type": "code",
   "execution_count": null,
   "id": "a1259f7c",
   "metadata": {},
   "outputs": [],
   "source": [
    "# make a colormap to display the labels as unique colors\n",
    "# This doesn't actually guarantee uniqueness, since it wraps the list at some point\n",
    "import matplotlib.colors as mcolors\n",
    "\n",
    "colors_list = list(mcolors.XKCD_COLORS.keys())\n",
    "# colors_list.remove(\"black\")\n",
    "colormap = mcolors.ListedColormap(colors=[\"black\"] + colors_list * 101)\n",
    "\n",
    "figure, axes = plt.subplots(1, 2)\n",
    "axes[0].imshow(\n",
    "    zarr.open(\"sample_data.zarr\", \"r\")[\"smoothed_for_seg\"][:].transpose(1, 2, 0),\n",
    "    origin=\"lower\",\n",
    ")\n",
    "blue_objs = zarr.open(\"sample_data.zarr\", \"r\")[\"blue_objects\"][:]\n",
    "axes[1].imshow(blue_objs, origin=\"lower\", cmap=colormap, interpolation=\"nearest\")"
   ]
  },
  {
   "cell_type": "markdown",
   "id": "bdf95272",
   "metadata": {},
   "source": [
    "Now we know how to chain tasks together, but we've created another issue. If objects crossed block boundaries, they were assigned different IDs. We will address this problem in the next section."
   ]
  },
  {
   "cell_type": "markdown",
   "id": "769d3e30",
   "metadata": {},
   "source": [
    "###Process functions that need to read their neighbor's output (and the \"read_write_conflict\" flag)"
   ]
  },
  {
   "cell_type": "markdown",
   "id": "36d1982b",
   "metadata": {},
   "source": [
    "There is a class of problem where it is useful for a block to see the output of its neighboring blocks. Usually, this need comes up when the task performs detection and linking in the same step. To detect an object in a block, it is useful to know if a neighbor has already detected an object that the object in the current block should link to. This is especially useful if there is some sort of continuity constraint, as in tracking objects over time. Even for tasks without a continuity constraint, like agglomeration of fragments for instance segmentation, performing the detection and linking at the same time can save you an extra pass over the dataset, which matters when the datasets are large.\n",
    "\n",
    "The example in this tutorial is only to illustrate how daisy implements the ability to depend on neighboring blocks outputs, by showing how we can relabel the segmentation IDs to be consistent across blocks during the detection step. Let's visualize an example block as though it were not completed, but its neighbors are done, and the read_roi is expanded by a certain amount of context."
   ]
  },
  {
   "cell_type": "code",
   "execution_count": null,
   "id": "78eaf258",
   "metadata": {
    "lines_to_next_cell": 2
   },
   "outputs": [],
   "source": [
    "context = 10  # It could be as low as 1, but we use 10 for ease of visualization\n",
    "seg_block_roi = daisy.Roi((128, 128), (128, 128))\n",
    "seg_read_roi = seg_block_roi.grow(context, context)\n",
    "seg_write_roi = seg_block_roi\n",
    "seg_total_read_roi = total_roi.grow(context, context)\n",
    "\n",
    "seg_block = daisy.Block(\n",
    "    total_roi=seg_total_read_roi,\n",
    "    read_roi=seg_read_roi,\n",
    "    write_roi=seg_write_roi,\n",
    ")\n",
    "\n",
    "# simulate this block not being completed yet\n",
    "blue_objs = zarr.open(\"sample_data.zarr\", \"r\")[\"blue_objects\"][:]\n",
    "blue_objs[128:356, 128:256] = 0\n",
    "\n",
    "from skimage.color import label2rgb\n",
    "\n",
    "figure, axes = plt.subplots(1, 2)\n",
    "axes[0].imshow(\n",
    "    zarr.open(\"sample_data.zarr\", \"r\")[\"smoothed_for_seg\"][:].transpose(1, 2, 0),\n",
    "    origin=\"lower\",\n",
    ")\n",
    "axes[1].imshow(blue_objs, origin=\"lower\", cmap=colormap, interpolation=\"nearest\")\n",
    "display_roi(figure.axes[0], seg_block.read_roi, color=\"purple\")\n",
    "display_roi(figure.axes[0], seg_block.write_roi, color=\"white\")\n",
    "display_roi(figure.axes[1], seg_block.read_roi, color=\"purple\")\n",
    "display_roi(figure.axes[1], seg_block.write_roi, color=\"white\")"
   ]
  },
  {
   "cell_type": "markdown",
   "id": "c98f5eee",
   "metadata": {
    "lines_to_next_cell": 2
   },
   "source": [
    "Here the purple is the read_roi of our current block, and the white is the write_roi. As before, the process function will read the input image in the read_roi and segment it. From the previous result visualization, we can see that the function will detect the top half of the crest and assign it the label id that is visualized as brown.\n",
    "\n",
    "Before we write out the brown label to the write_roi of the output dataset, however, we can adapt the process function to **also read in the existing results in the output dataset** in the read_roi. The existing green label will then overlap with the brown label, and our process function can relabel the top half of the crest green based on this information, before writing to the write_roi.\n",
    "\n",
    "This approach only works if the overlapping blocks are run sequentially (and if objects don't span across non-adjacent blocks - for large objects, you cannot relabel without a second pass). If the neighbors are run in parallel, it is possible that the green label will not yet be there when our current block reads existing labels, but also that our brown label will not yet be there when the block containing the green object reads existing labels. If `read_write_conflicts` argument is set to True in a task, the daisy scheduler will ensure that pairs of blocks with overlapping read/write rois will never be run at the same time, thus avoiding this race condition."
   ]
  },
  {
   "cell_type": "code",
   "execution_count": null,
   "id": "a93b1f54",
   "metadata": {},
   "outputs": [],
   "source": [
    "# here is the new and improved segmentation function that reads in neighboring output context\n",
    "def segment_blue_objects_with_context(input_group, output_group, block):\n",
    "    import cv2\n",
    "    from funlib.persistence.arrays import open_ds, Array\n",
    "    import numpy as np\n",
    "    import skimage\n",
    "    import logging\n",
    "    import time\n",
    "\n",
    "    def get_overlapping_labels(array1, array2):\n",
    "        \"\"\"A function to get all pairs of labels that intsersect between two arrays\"\"\"\n",
    "        array1 = array1.flatten()\n",
    "        array2 = array2.flatten()\n",
    "        # get indices where both are not zero (ignore background)\n",
    "        # this speeds up computation significantly\n",
    "        non_zero_indices = np.logical_and(array1, array2)\n",
    "        flattened_stacked = np.array(\n",
    "            [array1[non_zero_indices], array2[non_zero_indices]]\n",
    "        )\n",
    "        intersections = np.unique(flattened_stacked, axis=1)\n",
    "        return intersections  # a <number of pairs> x 2 nparray\n",
    "\n",
    "    # load the data as usual\n",
    "    input_ds = open_ds(\n",
    "        f\"sample_data.zarr/{input_group}\",\n",
    "        \"r\",\n",
    "    )\n",
    "    data = input_ds.to_ndarray(\n",
    "        block.read_roi, fill_value=0\n",
    "    )  # add the fill value because context\n",
    "\n",
    "    # massage the data into open cv hsv format :/\n",
    "    back_to_skimage = (data.transpose(1, 2, 0) * 255).astype(np.uint8)\n",
    "    cv2_image = cv2.cvtColor(\n",
    "        skimage.util.img_as_ubyte(back_to_skimage), cv2.COLOR_RGB2BGR\n",
    "    )\n",
    "    hsv_image = cv2.cvtColor(cv2_image, cv2.COLOR_BGR2HSV)\n",
    "\n",
    "    # Define the color range for detection\n",
    "    lower_blue = np.array([100, 30, 0])\n",
    "    upper_blue = np.array([150, 255, 255])\n",
    "\n",
    "    # Threshold the image to get only blue colors\n",
    "    mask = cv2.inRange(hsv_image, lower_blue, upper_blue)  # this returns 0 and 255\n",
    "    mask = mask.astype(np.uint32)\n",
    "    mask = mask // 255  # turn into 0/1 labels\n",
    "\n",
    "    # give each connected component its own instance segmentation label\n",
    "    labels = skimage.measure.label(mask)\n",
    "\n",
    "    # get a unique ID for each element in the whole volume (avoid repeats between blocks)\n",
    "    max_number_obj = (\n",
    "        128 * 128\n",
    "    )  # This number is an upper bound on the maximum number of objects in a block\n",
    "    block_id_mask = mask * (block.block_id[1] * max_number_obj)\n",
    "    labels = labels + block_id_mask\n",
    "\n",
    "    # load the existing labels in the output\n",
    "    output_ds = open_ds(f\"sample_data.zarr/{output_group}\", \"a\")\n",
    "    existing_labels = output_ds.to_ndarray(block.read_roi, fill_value=0)\n",
    "\n",
    "    # if there are existing labels, change the label to match\n",
    "    # note: This only works if objects never span multiple rows/columns.\n",
    "    # If you have long objects like neurons, you need to do true agglomeration\n",
    "    intersections = get_overlapping_labels(labels, existing_labels)\n",
    "    for index in range(intersections.shape[1]):\n",
    "        label, existing_label = intersections[:, index]\n",
    "        # Change the label to the one that was already in the neighbor\n",
    "        labels[labels == label] = existing_label\n",
    "\n",
    "    time.sleep(\n",
    "        0.5\n",
    "    )  # included to show that read_write_conflicts=False leads to race conditions\n",
    "\n",
    "    # center crop and save the output dataset\n",
    "    output_array = Array(labels, offset=block.read_roi.offset, voxel_size=(1, 1))\n",
    "    output_ds[block.write_roi] = output_array.to_ndarray(block.write_roi)"
   ]
  },
  {
   "cell_type": "code",
   "execution_count": null,
   "id": "a407edb9",
   "metadata": {},
   "outputs": [],
   "source": [
    "seg_block_roi = daisy.Roi((0, 0), (128, 128))\n",
    "seg_block_read_roi = seg_block_roi.grow(context, context)\n",
    "\n",
    "delete_ds(\"blue_objects_with_context\")\n",
    "prepare_ds(\n",
    "    \"sample_data.zarr/blue_objects_with_context\",\n",
    "    shape=total_roi.shape,\n",
    "    offset=total_roi.offset,\n",
    "    voxel_size=daisy.Coordinate((1, 1)),\n",
    "    dtype=np.uint32,\n",
    "    write_size=seg_block_roi.shape,\n",
    ")\n",
    "\n",
    "seg_task = daisy.Task(\n",
    "    \"segmentation_with_context\",\n",
    "    process_function=partial(\n",
    "        segment_blue_objects_with_context,\n",
    "        \"smoothed_for_seg\",\n",
    "        \"blue_objects_with_context\",\n",
    "    ),\n",
    "    total_roi=total_read_roi,\n",
    "    read_roi=seg_block_read_roi,\n",
    "    write_roi=seg_block_roi,\n",
    "    read_write_conflict=True,  # this ensures neighboring blocks aren't run at the same time\n",
    "    num_workers=10,\n",
    "    upstream_tasks=[smoothing_task],\n",
    ")\n",
    "daisy.run_blockwise([seg_task])"
   ]
  },
  {
   "cell_type": "code",
   "execution_count": null,
   "id": "5d1f75e2",
   "metadata": {},
   "outputs": [],
   "source": [
    "figure, axes = plt.subplots(1, 2)\n",
    "axes[0].imshow(\n",
    "    zarr.open(\"sample_data.zarr\", \"r\")[\"smoothed_for_seg\"][:].transpose(1, 2, 0),\n",
    "    origin=\"lower\",\n",
    ")\n",
    "axes[1].imshow(\n",
    "    zarr.open(\"sample_data.zarr\", \"r\")[\"blue_objects_with_context\"][:],\n",
    "    cmap=colormap,\n",
    "    interpolation=\"nearest\",\n",
    "    origin=\"lower\",\n",
    ")"
   ]
  },
  {
   "cell_type": "markdown",
   "id": "8c63a2f8",
   "metadata": {},
   "source": [
    "All the labels are now consistent! If you re-run the previous cell with `read_write_conflict=False`, you should see an inconsistent result again due to the race conditions, even though the process function still reads the neighboring output."
   ]
  },
  {
   "cell_type": "markdown",
   "id": "7e35ca2c",
   "metadata": {},
   "source": [
    "**IMPORTANT PERFORMANCE NOTE:** Be aware that `read_write_conflicts` is set to `True` by default and can lead to performance hits in cases where you don't need it, so be sure to turn it off if you want every block to be run in parallel!"
   ]
  },
  {
   "cell_type": "markdown",
   "id": "a59746df",
   "metadata": {},
   "source": [
    "# Some Minimal Examples"
   ]
  },
  {
   "cell_type": "markdown",
   "id": "0a6fd924",
   "metadata": {},
   "source": [
    "## Introduction and overview\n",
    "\n",
    "In this tutorial we will cover some basic Daisy `Task`s\n",
    "\n",
    "**daisy.Task**: All code you would like to distribute into blocks must be wrapped into a `Task` to be executed by daisy.\n"
   ]
  },
  {
   "cell_type": "markdown",
   "id": "f0a49ed7",
   "metadata": {},
   "source": [
    "## Environment setup\n",
    "If you have not already done so, I highly recommend you create an environment first.\n",
    "You can do this with `uv` via:\n",
    "\n",
    "```bash\n",
    "uv init --python 3.12\n",
    "```\n",
    "Activating the environment is as simple as `source .venv/bin/activate`\n",
    "\n",
    "Then, you can:\n",
    "- add daisy directly to your dependencies with:\n",
    "    ```bash\n",
    "    uv add daisy\n",
    "    ```\n",
    "- install daisy using pip by name or via GitHub:\n",
    "    ```bash\n",
    "    pip install daisy\n",
    "    ```\n"
   ]
  },
  {
   "cell_type": "markdown",
   "id": "e1a247c0",
   "metadata": {},
   "source": [
    "\n",
    "### Multiprocessing\n",
    "Here we set the start method to fork. We do this to simplify running\n",
    "this notebook in a jupyter notebook. The \"spawn\" start method is\n",
    "supported but limits the possible functions you can execute blockwise\n",
    "(i.e. no lambda functions)"
   ]
  },
  {
   "cell_type": "code",
   "execution_count": null,
   "id": "919501a3",
   "metadata": {
    "lines_to_next_cell": 0
   },
   "outputs": [],
   "source": [
    "import multiprocessing\n",
    "\n",
    "multiprocessing.set_start_method(\"fork\", force=True)"
   ]
  },
  {
   "cell_type": "markdown",
   "id": "aa254f81",
   "metadata": {},
   "source": [
    "## Daisy Tasks"
   ]
  },
  {
   "cell_type": "markdown",
   "id": "ac81a234",
   "metadata": {},
   "source": [
    "### A Simple Task"
   ]
  },
  {
   "cell_type": "code",
   "execution_count": null,
   "id": "72e61eef",
   "metadata": {},
   "outputs": [],
   "source": [
    "import daisy\n",
    "from daisy import Coordinate, Roi\n",
    "import time\n",
    "\n",
    "# Create a super simple task\n",
    "dummy_task = daisy.Task(\n",
    "    \"Dummy\",  # We give the task a name\n",
    "    total_roi=Roi((0,), (100,)),  # a 1-D bounding box [0,100)\n",
    "    read_roi=Roi((0,), (1,)),  # We read in blocks of size [0,1)\n",
    "    write_roi=Roi((0,), (1,)),  # We write in blocks of size [0, 1)\n",
    "    process_function=lambda block: time.sleep(\n",
    "        0.05\n",
    "    ),  # Our process function takes the block and simply waits\n",
    "    num_workers=5,\n",
    ")\n",
    "\n",
    "# execute the task without any multiprocessing\n",
    "daisy.run_blockwise([dummy_task], multiprocessing=False)\n",
    "daisy.run_blockwise([dummy_task], multiprocessing=True)"
   ]
  },
  {
   "cell_type": "markdown",
   "id": "8a4050ec",
   "metadata": {},
   "source": [
    "Since there are 100 blocks to process, and we always sleep for 0.05 seconds, it takes 5 seconds\n",
    "to run all the blocks without multiprocessing, but only 1 second with `multiprocessing=True`.\n",
    "When you run a task with `daisy`, you get a progress bar along with a summary\n",
    "of the execution after you have finished processing. Here no errors were thrown so we completed all 100 blocks.\n",
    "\n",
    "`daisy` also programatically returns a dictionary containing a summary of the execution for all given\n",
    "tasks so that you can decide how to procede based on whether any blocks failed.\n",
    "\n",
    "Next lets look see what we can do to modify this task"
   ]
  },
  {
   "cell_type": "markdown",
   "id": "211f400a",
   "metadata": {
    "lines_to_next_cell": 0
   },
   "source": [
    "### Failing blocks"
   ]
  },
  {
   "cell_type": "code",
   "execution_count": null,
   "id": "629a4cad",
   "metadata": {},
   "outputs": [],
   "source": [
    "\n",
    "import random\n",
    "\n",
    "\n",
    "def random_fail(block: daisy.Block):\n",
    "    if random.random() < 0.2:\n",
    "        block.status = daisy.BlockStatus.FAILED\n",
    "    return block\n",
    "\n",
    "\n",
    "# Create a super simple task\n",
    "failing_task = daisy.Task(\n",
    "    \"Failures\",  # We give the task a name\n",
    "    total_roi=Roi((0,), (100,)),  # a 1-D bounding box [0,100)\n",
    "    read_roi=Roi((0,), (1,)),  # We read in blocks of size [0,1)\n",
    "    write_roi=Roi((0,), (1,)),  # We write in blocks of size [0, 1)\n",
    "    process_function=random_fail,  # Our process function takes the block and simply waits\n",
    "    max_retries=0,  # We do not retry failed blocks to get expected failure counts\n",
    ")\n",
    "\n",
    "# execute the task without any multiprocessing\n",
    "daisy.run_blockwise([failing_task], multiprocessing=False)"
   ]
  },
  {
   "cell_type": "markdown",
   "id": "8cf3dc13",
   "metadata": {},
   "source": [
    "\n",
    "In this case, we have a 20% chance of failing each block. As you see from the execution summary,\n",
    "about 20% of the blocks failed.\n",
    "If your blocks are failing, you may want to rerun the task and only process failed blocks. This\n",
    "is where we use the `check_function` argument in the `daisy.Task`."
   ]
  },
  {
   "cell_type": "code",
   "execution_count": null,
   "id": "c1304078",
   "metadata": {},
   "outputs": [],
   "source": [
    "import tempfile\n",
    "from pathlib import Path\n",
    "\n",
    "with tempfile.TemporaryDirectory() as tmpdir:\n",
    "\n",
    "    def random_fail(block: daisy.Block):\n",
    "        if random.random() < 0.2:\n",
    "            block.status = daisy.BlockStatus.FAILED\n",
    "        else:\n",
    "            Path(tmpdir, f\"{block.block_id[1]}\").touch()\n",
    "        return block\n",
    "\n",
    "    def check_block(block: daisy.Block) -> bool:\n",
    "        return Path(tmpdir, f\"{block.block_id[1]}\").exists()\n",
    "\n",
    "    while True:\n",
    "        # Create a super simple task\n",
    "        check_block_task = daisy.Task(\n",
    "            \"Checking-Blocks\",  # We give the task a name\n",
    "            total_roi=Roi((0,), (100,)),  # a 1-D bounding box [0,100)\n",
    "            read_roi=Roi((0,), (1,)),  # We read in blocks of size [0,1)\n",
    "            write_roi=Roi((0,), (1,)),  # We write in blocks of size [0, 1)\n",
    "            process_function=random_fail,  # Our process function takes the block and simply waits\n",
    "            check_function=check_block,  # Check if a block has been completed or not\n",
    "            max_retries=0,\n",
    "        )\n",
    "\n",
    "        # execute the task without any multiprocessing\n",
    "        task_state = daisy.run_blockwise([check_block_task], multiprocessing=False)\n",
    "        if task_state[\"Checking-Blocks\"].failed_count == 0:\n",
    "            break"
   ]
  },
  {
   "cell_type": "markdown",
   "id": "96b6d145",
   "metadata": {},
   "source": [
    "\n",
    "It took a few tries to complete the task since approximately 20% of the remaining blocks fail\n",
    "on each attempt. We could also have set `max_retries` to a higher number to allow for retrying failed\n",
    "blocks during the same task execution. This is to account for random failures due to network issues or\n",
    "other random uncontrollable factors, but will not help if there is a logical bug in your code. In this\n",
    "case since the failure is random, retrying does help."
   ]
  },
  {
   "cell_type": "markdown",
   "id": "6044f5e2",
   "metadata": {},
   "source": [
    "### Different read/write sizes and boundary handling"
   ]
  },
  {
   "cell_type": "code",
   "execution_count": null,
   "id": "17368349",
   "metadata": {},
   "outputs": [],
   "source": [
    "\n",
    "# fit: \"valid\", \"overhang\", \"shrink\"\n",
    "\n",
    "# Create a super simple task\n",
    "overhang_task = daisy.Task(\n",
    "    \"overhang\",  # We give the task a name\n",
    "    total_roi=Roi((0,), (100,)),  # a 1-D bounding box [0,100)\n",
    "    read_roi=Roi((0,), (9,)),  # We read in blocks of size [0,1)\n",
    "    write_roi=Roi((2,), (5,)),  # We write in blocks of size [0, 1)\n",
    "    process_function=lambda b: ...,  # Empty process function\n",
    "    fit=\"overhang\",\n",
    ")\n",
    "valid_task = daisy.Task(\n",
    "    \"valid\",  # We give the task a name\n",
    "    total_roi=Roi((0,), (100,)),  # a 1-D bounding box [0,100)\n",
    "    read_roi=Roi((0,), (9,)),  # We read in blocks of size [0,1)\n",
    "    write_roi=Roi((2,), (5,)),  # We write in blocks of size [0, 1)\n",
    "    process_function=lambda b: ...,  # Empty process function\n",
    "    fit=\"valid\",\n",
    ")"
   ]
  },
  {
   "cell_type": "markdown",
   "id": "9fb0253f",
   "metadata": {},
   "source": [
    "because we now have:\n",
    "\n",
    "total roi: [0, 100)\n",
    "\n",
    "read roi: [0, 9)\n",
    "\n",
    "write roi: [2, 7)\n",
    "\n",
    "There is a \"context\" of 2 pixels between the read_roi and write roi.\n",
    "Removing this context from the total roi gives us a \"total write roi\" of [2, 98).\n",
    "Note that the total number of pixels to tile is 96, which is not evenly divisible\n",
    "by the chunk size of 5. So our final block will have write roi of [97, 102) and a\n",
    "read roi of [95, 104). Depending on your task, reading, and especially writing outside\n",
    "of the given total roi bounds can cause problems.\n",
    "in these cases we can handle the final block in a few ways. \"valid\": ignore the\n",
    "final block. \"overhang\": process the final block. \"shrink\": shrink the read/write\n",
    "rois until the read roi is fully contained in the total roi. In this case the \"shrink\"\n",
    "strategy would shrink the read roi to [95, 100) and the write roi to [97, 98).\n",
    "\n",
    "Now when we executing the overhang task it will have one more block processed than the\n",
    "valid task"
   ]
  },
  {
   "cell_type": "code",
   "execution_count": null,
   "id": "4510e82d",
   "metadata": {},
   "outputs": [],
   "source": [
    "daisy.run_blockwise([overhang_task], multiprocessing=False)\n",
    "daisy.run_blockwise([valid_task], multiprocessing=False)"
   ]
  },
  {
   "cell_type": "markdown",
   "id": "707f6051",
   "metadata": {},
   "source": [
    "### Task Chaining\n",
    "\n",
    "It is also possible to chain multiple tasks together in such a way that\n",
    "they either run in parallel or in sequence. If running in parallel, we\n",
    "simply start the workers for both tasks at once. If running in sequence,\n",
    "blocks will only be realeased once their dependencies in previous tasks\n",
    "have been completed."
   ]
  },
  {
   "cell_type": "code",
   "execution_count": null,
   "id": "c4d92d8e",
   "metadata": {},
   "outputs": [],
   "source": [
    "total_roi = Roi((0, 0), (1250, 1250))\n",
    "read_roi_shape = (400, 400)\n",
    "write_roi_shape = (250, 250)\n",
    "context = Coordinate(75, 75)\n",
    "\n",
    "task_a_to_b = daisy.Task(\n",
    "    \"A_to_B\",\n",
    "    total_roi=total_roi.grow(\n",
    "        context,\n",
    "        context,\n",
    "    ),\n",
    "    read_roi=Roi((0, 0), read_roi_shape),\n",
    "    write_roi=Roi(context, write_roi_shape),\n",
    "    process_function=lambda b: ...,\n",
    "    read_write_conflict=False,\n",
    ")\n",
    "task_b_to_c = daisy.Task(\n",
    "    \"B_to_C\",\n",
    "    total_roi=total_roi.grow(\n",
    "        context,\n",
    "        context,\n",
    "    ),\n",
    "    read_roi=Roi((0, 0), read_roi_shape),\n",
    "    write_roi=Roi(context, write_roi_shape),\n",
    "    process_function=lambda b: ...,\n",
    "    read_write_conflict=False,\n",
    "    upstream_tasks=[task_a_to_b],\n",
    ")\n",
    "\n",
    "daisy.run_blockwise([task_a_to_b, task_b_to_c], multiprocessing=False)"
   ]
  },
  {
   "cell_type": "markdown",
   "id": "b52ec88c",
   "metadata": {},
   "source": [
    "\n",
    "Here is an mp4 visualization of the above task\n",
    "\n",
    "![task chaining](../_static/task_chaining.gif)"
   ]
  },
  {
   "cell_type": "markdown",
   "id": "16640b9b",
   "metadata": {},
   "source": [
    "# Map Reduce and Some simple benchmarks"
   ]
  },
  {
   "cell_type": "markdown",
   "id": "decd2e5c",
   "metadata": {
    "lines_to_next_cell": 0
   },
   "source": [
    "## Simple data"
   ]
  },
  {
   "cell_type": "code",
   "execution_count": null,
   "id": "eb5f498f",
   "metadata": {
    "lines_to_next_cell": 1
   },
   "outputs": [],
   "source": [
    "import numpy as np\n",
    "import timeit\n",
    "\n",
    "shape = 4096000\n",
    "\n",
    "a = np.arange(shape, dtype=np.int64)\n",
    "b = np.empty_like(a, dtype=np.int64)\n",
    "print(f\"Array a: {a[:6]} ...\")"
   ]
  },
  {
   "cell_type": "markdown",
   "id": "9324c1f7",
   "metadata": {},
   "source": [
    "## Map\n",
    "Here we will square each element in the array `a` and store the result in a new array `b`"
   ]
  },
  {
   "cell_type": "code",
   "execution_count": null,
   "id": "feea44d1",
   "metadata": {},
   "outputs": [],
   "source": [
    "def process_fn():\n",
    "    # iterating and squaring each element in a and store to b\n",
    "    with np.nditer([a, b], op_flags=[[\"readonly\"], [\"readwrite\"]]) as it:\n",
    "        with it:\n",
    "            for x, y in it:\n",
    "                y[...] = x**2\n",
    "\n",
    "\n",
    "print(f\"Squaring array a took {timeit.timeit(process_fn, number=1)} seconds\")\n",
    "print(f\"Array b: {b[:6]} ...\")"
   ]
  },
  {
   "cell_type": "code",
   "execution_count": null,
   "id": "21b327c6",
   "metadata": {},
   "outputs": [],
   "source": [
    "import daisy\n",
    "from funlib.persistence import Array\n",
    "import zarr\n",
    "\n",
    "shape = 4096000\n",
    "block_shape = 1024 * 16\n",
    "\n",
    "# input array is wrapped in Array for easy of Roi indexing\n",
    "a = Array(\n",
    "    np.arange(shape, dtype=np.int64),\n",
    "    offset=(0,),\n",
    "    voxel_size=(1,),\n",
    ")\n",
    "\n",
    "# to parallelize across processes, we need persistent read/write arrays\n",
    "# we'll use zarr here to do do that\n",
    "b = zarr.open_array(\n",
    "    zarr.TempStore(), \"w\", (shape,), chunks=(block_shape,), dtype=np.int64\n",
    ")\n",
    "# output array is wrapped in Array for easy of Roi indexing\n",
    "b = Array(\n",
    "    b,\n",
    "    offset=(0,),\n",
    "    voxel_size=(1,),\n",
    ")"
   ]
  },
  {
   "cell_type": "code",
   "execution_count": null,
   "id": "3f991a18",
   "metadata": {},
   "outputs": [],
   "source": [
    "# same process function as previously, but with additional code\n",
    "# to read and write data to persistent arrays\n",
    "def process_fn_daisy(block):\n",
    "    a_sub = a[block.read_roi]\n",
    "    b_sub = np.empty_like(a_sub)\n",
    "    with np.nditer(\n",
    "        [a_sub, b_sub],\n",
    "        op_flags=[[\"readonly\"], [\"readwrite\"]],\n",
    "    ) as it:\n",
    "        with it:\n",
    "            for x, y in it:\n",
    "                y[...] = x**2\n",
    "\n",
    "    b[block.write_roi] = b_sub"
   ]
  },
  {
   "cell_type": "code",
   "execution_count": null,
   "id": "948f7731",
   "metadata": {},
   "outputs": [],
   "source": [
    "total_roi = daisy.Roi((0,), shape)  # total ROI to map process over\n",
    "block_roi = daisy.Roi((0,), (block_shape,))  # block ROI for parallel processing\n",
    "\n",
    "# creating a Daisy task, note that we do not specify how each\n",
    "# worker should read/write to input/output arrays\n",
    "task = daisy.Task(\n",
    "    total_roi=total_roi,\n",
    "    read_roi=block_roi,\n",
    "    write_roi=block_roi,\n",
    "    process_function=process_fn_daisy,\n",
    "    num_workers=8,\n",
    "    task_id=\"square\",\n",
    ")\n",
    "\n",
    "daisy.run_blockwise([task])\n",
    "print(f\"Array b: {b[:6]} ...\")"
   ]
  },
  {
   "cell_type": "code",
   "execution_count": null,
   "id": "d0f60eac",
   "metadata": {},
   "outputs": [],
   "source": [
    "# run this to benchmark daisy!\n",
    "run_daisy = lambda: daisy.run_blockwise([task])\n",
    "print(f\"Squaring array a with daisy took {timeit.timeit(run_daisy, number=1)} seconds\")"
   ]
  },
  {
   "cell_type": "markdown",
   "id": "b22d69d0",
   "metadata": {},
   "source": [
    "## Reduce\n",
    "Here we will take the sum over every 16 elements in the array `b` and store the result in a new array `c`"
   ]
  },
  {
   "cell_type": "code",
   "execution_count": null,
   "id": "597646e0",
   "metadata": {},
   "outputs": [],
   "source": [
    "import multiprocessing\n",
    "\n",
    "reduce_shape = shape / 16\n",
    "\n",
    "# while using zarr with daisy.Array can be easier to understand and less error prone, it is not a requirement.\n",
    "# Here we make a shared memory array for collecting results from different workers\n",
    "c = multiprocessing.Array(\"Q\", range(int(shape / reduce_shape)))\n",
    "\n",
    "\n",
    "def process_fn_sum_reduce(block):\n",
    "    b_sub = b[block.write_roi]\n",
    "    s = np.sum(b_sub)\n",
    "    # compute c idx based on block offset and shape\n",
    "    idx = (block.write_roi.offset / block.write_roi.shape)[0]\n",
    "    c[idx] = s\n",
    "\n",
    "\n",
    "total_roi = daisy.Roi((0,), shape)  # total ROI to map process over\n",
    "block_roi = daisy.Roi((0,), reduce_shape)  # block ROI for parallel processing\n",
    "\n",
    "task1 = daisy.Task(\n",
    "    total_roi=total_roi,\n",
    "    read_roi=block_roi,\n",
    "    write_roi=block_roi,\n",
    "    process_function=process_fn_sum_reduce,\n",
    "    num_workers=8,\n",
    "    task_id=\"sum_reduce\",\n",
    ")\n",
    "\n",
    "daisy.run_blockwise([task1])\n",
    "print(c[:])"
   ]
  }
 ],
 "metadata": {
  "kernelspec": {
   "display_name": "Python 3 (ipykernel)",
   "language": "python",
   "name": "python3"
  }
 },
 "nbformat": 4,
 "nbformat_minor": 5
}
